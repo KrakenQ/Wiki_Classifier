{
 "cells": [
  {
   "cell_type": "code",
   "execution_count": 3,
   "metadata": {
    "collapsed": false,
    "pycharm": {
     "name": "#%%\n"
    }
   },
   "outputs": [
    {
     "name": "stdout",
     "output_type": "stream",
     "text": [
      "['Bułgarscy_satyrycy', 'Obchody_rocznicowe', 'Polskie_filmy_o_podróżach_w_czasie', 'Radiestezja', 'Rozrywki_umysłowe', 'Upamiętnienie_Świętego_Wojciecha', 'Akcesoria_do_palenia', 'Naukowe_projekty_meteorologiczne', 'Albumy_Janet_Jackson', 'Motocykle_turystyczne']\n"
     ]
    }
   ],
   "source": [
    "with open('../.idea/po_słowach_integers-po_slowach-matrix-pl-20211020', 'r', encoding='UTF-8') as file:\n",
    "    matrix_raw = file.readlines()\n",
    "    del matrix_raw[0]\n",
    "    matrix = []\n",
    "    article_id = []\n",
    "    for row in matrix_raw:\n",
    "        splitted_row = row.split()\n",
    "        article_id.append(splitted_row[0])\n",
    "        del splitted_row[0]\n",
    "        matrix.append(splitted_row)\n",
    "\n",
    "with open('../.idea/po_słowach_integers-po_slowach-cats_dict-pl-20211020', 'r', encoding='UTF-8') as file:\n",
    "    categories_raw = file.readlines()\n",
    "    categories = []\n",
    "    categories_id = []\n",
    "    for category in categories_raw:\n",
    "        categories.append(category.split('\\t')[0])\n",
    "        categories_id.append(category.split('\\t')[1])\n",
    "    print(categories)\n",
    "\n",
    "with open('../.idea/po_słowach_integers-po_slowach-categories-pl-20211020', 'r', encoding='UTF-8') as file:\n",
    "    categories_articles = file.readlines()\n",
    "\n",
    "with open('../.idea/po_słowach_integers-po_slowach-articles_dict-pl-20211020', 'r', encoding='UTF-8') as file:\n",
    "    articles = file.readlines()"
   ]
  },
  {
   "cell_type": "code",
   "execution_count": 10,
   "metadata": {
    "collapsed": false,
    "pycharm": {
     "name": "#%%\n"
    }
   },
   "outputs": [
    {
     "name": "stdout",
     "output_type": "stream",
     "text": [
      "[['1' '1' '2' ... '0' '0' '0']\n",
      " ['0' '0' '0' ... '0' '0' '0']\n",
      " ['0' '0' '0' ... '0' '0' '0']\n",
      " ...\n",
      " ['0' '0' '0' ... '0' '0' '0']\n",
      " ['0' '0' '0' ... '0' '0' '0']\n",
      " ['0' '0' '0' ... '2' '2' '7']]\n"
     ]
    }
   ],
   "source": [
    "from sklearn.svm import LinearSVC\n",
    "import numpy as np\n",
    "from sklearn.model_selection import train_test_split\n",
    "model = LinearSVC(tol=1.0e-6,max_iter=5000,verbose=1)\n",
    "train_labels = categories\n",
    "X = np.array(matrix)\n",
    "print(X)\n",
    "#bag = vectorizer.fit_transform(X)\n",
    "#print(bag)\n",
    "#y = np.array(categories)\n",
    "#X_train, X_test, y_train, y_test = train_test_split(X, y)\n",
    "#vectorizer.fit(X_train, y_train)\n",
    "#y_predict = lr.predict(X_test)\n",
    "\n"
   ]
  },
  {
   "cell_type": "code",
   "execution_count": 27,
   "metadata": {},
   "outputs": [
    {
     "data": {
      "text/plain": [
       "dict_keys([41699, 65566, 83569, 84469, 98687, 143351, 164904, 179362, 183935, 199114, 296512, 384483, 416127, 443877, 484519, 516793, 516798, 517281, 517314, 517709, 517713, 518491, 523026, 538596, 559302, 606745, 718479, 789068, 808375, 830047, 858898, 933872, 972838, 986781, 1012685, 1039320, 1047298, 1070500, 1082431, 1218620, 1315622, 1365162, 1504055, 1508048, 1562132, 1579661, 1594762, 1605406, 1611742, 1836285, 1839906, 1843647, 1852234, 1913192, 1956605, 1965297, 1997802, 2018162, 2047198, 2068886, 2076866, 2137813, 2158771, 2277857, 2400779, 2428382, 2448537, 2492440, 2666184, 2703228, 2706866, 2707281, 2709408, 2709565, 2710017, 2721143, 2721146, 2721175, 2721183, 2721185, 2721199, 2726962, 2739085, 2785421, 2785733, 2817618, 2870472, 2946023, 2986874, 3032211, 3062235, 3181207, 3475102, 3512435, 3531777, 3532215, 3875927, 3945479, 4438061, 4867883])"
      ]
     },
     "execution_count": 27,
     "metadata": {},
     "output_type": "execute_result"
    }
   ],
   "source": [
    "from numpy import genfromtxt, int32\n",
    "my_data = genfromtxt('../.idea/po_słowach_integers-po_slowach-matrix-pl-20211020', dtype = int32, skip_header = 1, delimiter=' ')\n",
    "bag_of_words = dict()\n",
    "\n",
    "for row in my_data:\n",
    "    row_dict = dict()\n",
    "    for i, word_count in enumerate(row[1:], start = 1):\n",
    "        if word_count > 0:\n",
    "            row_dict[i] = word_count\n",
    "    bag_of_words[row[0]] = row_dict\n"
   ]
  }
 ],
 "metadata": {
  "kernelspec": {
   "display_name": "Python 3",
   "language": "python",
   "name": "python3"
  },
  "language_info": {
   "codemirror_mode": {
    "name": "ipython",
    "version": 3
   },
   "file_extension": ".py",
   "mimetype": "text/x-python",
   "name": "python",
   "nbconvert_exporter": "python",
   "pygments_lexer": "ipython3",
   "version": "3.9.5"
  }
 },
 "nbformat": 4,
 "nbformat_minor": 0
}
