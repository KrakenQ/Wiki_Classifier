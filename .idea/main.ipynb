{
 "cells": [
  {
   "cell_type": "code",
   "execution_count": 7,
   "metadata": {
    "collapsed": false,
    "pycharm": {
     "name": "#%%\n"
    }
   },
   "outputs": [
    {
     "name": "stdout",
     "output_type": "stream",
     "text": [
      "['Bułgarscy_satyrycy', 'Obchody_rocznicowe', 'Polskie_filmy_o_podróżach_w_czasie', 'Radiestezja', 'Rozrywki_umysłowe', 'Upamiętnienie_Świętego_Wojciecha', 'Akcesoria_do_palenia', 'Naukowe_projekty_meteorologiczne', 'Albumy_Janet_Jackson', 'Motocykle_turystyczne']\n"
     ]
    }
   ],
   "source": [
    "import csv\n",
    "import numpy as np\n",
    "\n",
    "with open('../.idea/po_słowach_integers-po_slowach-matrix-pl-20211020', 'r', encoding='UTF-8') as file:\n",
    "    matrix_raw = file.readlines()\n",
    "    del matrix_raw[0]\n",
    "    matrix = []\n",
    "    article_id = []\n",
    "    for row in matrix_raw:\n",
    "        splitted_row = row.split()\n",
    "        article_id.append(splitted_row[0])\n",
    "        del splitted_row[0]\n",
    "        matrix.append(splitted_row)\n",
    "\n",
    "with open('../.idea/po_słowach_integers-po_slowach-cats_dict-pl-20211020', 'r', encoding='UTF-8') as file:\n",
    "    categories_raw = file.readlines()\n",
    "    categories = []\n",
    "    categories_id = []\n",
    "    for category in categories_raw:\n",
    "        categories.append(category.split('\\t')[0])\n",
    "        categories_id.append(category.split('\\t')[1])\n",
    "    print(categories)\n",
    "\n",
    "#with open('../.idea/po_słowach_integers-po_slowach-categories-pl-20211020', 'r', encoding='UTF-8') as file:\n",
    "#    categories_articles = file.readlines()\n",
    "\n",
    "with open('../.idea/po_słowach_integers-po_slowach-categories-pl-20211020', 'r', encoding='UTF-8') as file:\n",
    "    data_iter = csv.reader(file, delimiter = '\\t')\n",
    "    data = [data for data in data_iter]\n",
    "categories_articles = np.asarray(data, dtype=np.int32)\n",
    "\n",
    "with open('../.idea/po_słowach_integers-po_slowach-articles_dict-pl-20211020', 'r', encoding='UTF-8') as file:\n",
    "    articles = file.readlines()"
   ]
  },
  {
   "cell_type": "code",
   "execution_count": null,
   "metadata": {},
   "outputs": [],
   "source": []
  },
  {
   "cell_type": "code",
   "execution_count": 30,
   "metadata": {
    "collapsed": false,
    "pycharm": {
     "name": "#%%\n"
    }
   },
   "outputs": [],
   "source": [
    "from sklearn.model_selection import train_test_split, cross_val_score\n",
    "X = np.array(matrix, dtype=np.int32)\n",
    "y = categories_articles[:, 1]\n",
    "X_train, X_test, y_train, y_test = train_test_split(X, y)\n",
    "\n"
   ]
  },
  {
   "cell_type": "code",
   "execution_count": 31,
   "metadata": {},
   "outputs": [
    {
     "name": "stdout",
     "output_type": "stream",
     "text": [
      "[LibLinear][LibLinear][LibLinear][LibLinear][LibLinear]"
     ]
    },
    {
     "data": {
      "text/plain": [
       "array([0.95, 0.95, 1.  , 1.  , 0.9 ])"
      ]
     },
     "execution_count": 31,
     "metadata": {},
     "output_type": "execute_result"
    }
   ],
   "source": [
    "#SVM (LinearSVC)\n",
    "\n",
    "from sklearn.svm import LinearSVC\n",
    "m_LinearSVC = LinearSVC(tol=1.0e-6,max_iter=5000,verbose=1)\n",
    "#m_LinearSVC.fit(X_train, y_train)\n",
    "#results = m_LinearSVC.predict(X_test)\n",
    "cross_val_score(m_LinearSVC, X, y, cv=5, scoring='recall_macro')"
   ]
  },
  {
   "cell_type": "code",
   "execution_count": 34,
   "metadata": {},
   "outputs": [
    {
     "data": {
      "text/plain": [
       "array([0.7 , 0.45, 0.55, 0.55, 0.45])"
      ]
     },
     "execution_count": 34,
     "metadata": {},
     "output_type": "execute_result"
    }
   ],
   "source": [
    "#KNN\n",
    "\n",
    "from sklearn.neighbors import KNeighborsClassifier\n",
    "m_KNN = KNeighborsClassifier()\n",
    "cross_val_score(m_KNN, X, y, cv=5, scoring='recall_macro')"
   ]
  },
  {
   "cell_type": "code",
   "execution_count": 30,
   "metadata": {},
   "outputs": [],
   "source": [
    "from numpy import genfromtxt, int32\n",
    "my_data = genfromtxt('../.idea/po_słowach_integers-po_slowach-matrix-pl-20211020', dtype = int32, skip_header = 1, delimiter=' ')\n",
    "bag_of_words = dict()\n",
    "\n",
    "for row in my_data:\n",
    "    row_dict = dict()\n",
    "    for i, word_count in enumerate(row[1:], start = 1):\n",
    "        if word_count > 0:\n",
    "            row_dict[i] = word_count\n",
    "    bag_of_words[row[0]] = row_dict\n"
   ]
  }
 ],
 "metadata": {
  "kernelspec": {
   "display_name": "Python 3",
   "language": "python",
   "name": "python3"
  },
  "language_info": {
   "codemirror_mode": {
    "name": "ipython",
    "version": 3
   },
   "file_extension": ".py",
   "mimetype": "text/x-python",
   "name": "python",
   "nbconvert_exporter": "python",
   "pygments_lexer": "ipython3",
   "version": "3.9.5"
  }
 },
 "nbformat": 4,
 "nbformat_minor": 0
}
