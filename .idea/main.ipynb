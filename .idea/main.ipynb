{
 "cells": [
  {
   "cell_type": "code",
   "execution_count": 8,
   "metadata": {
    "pycharm": {
     "name": "#%%\n"
    }
   },
   "outputs": [
    {
     "name": "stdout",
     "output_type": "stream",
     "text": [
      "<_csv.reader object at 0x000001979CDB3400>\n",
      "<_csv.reader object at 0x000001979CDB3400>\n",
      "{5046178: 'Bułgarscy_satyrycy', 3889979: 'Obchody_rocznicowe', 3547238: 'Polskie_filmy_o_podróżach_w_czasie', 1698632: 'Radiestezja', 139508: 'Rozrywki_umysłowe', 3752700: 'Upamiętnienie_Świętego_Wojciecha', 4721243: 'Akcesoria_do_palenia', 842670: 'Naukowe_projekty_meteorologiczne', 3565288: 'Albumy_Janet_Jackson', 3941982: 'Motocykle_turystyczne'}\n"
     ]
    }
   ],
   "source": [
    "import csv\n",
    "import numpy as np\n",
    "\n",
    "with open('../.idea/po_słowach_integers-po_slowach-matrix-pl-20211020', 'r', encoding='UTF-8') as file:\n",
    "    matrix_raw = file.readlines()\n",
    "    del matrix_raw[0]\n",
    "    matrix = []\n",
    "    article_id = []\n",
    "    for row in matrix_raw:\n",
    "        splitted_row = row.split()\n",
    "        article_id.append(splitted_row[0])\n",
    "        del splitted_row[0]\n",
    "        matrix.append(splitted_row)\n",
    "\n",
    "with open('../.idea/po_słowach_integers-po_slowach-cats_dict-pl-20211020', 'r', encoding='UTF-8') as file:\n",
    "    data_iter = csv.reader(file, delimiter = '\\t')\n",
    "    print(data_iter)\n",
    "    data = [data for data in data_iter]\n",
    "    print(data_iter)\n",
    "categories_dict = {int(i[1]):i[0] for i in data}\n",
    "print(categories_dict)\n",
    "\n",
    "with open('../.idea/po_słowach_integers-po_slowach-categories-pl-20211020', 'r', encoding='UTF-8') as file:\n",
    "    data_iter = csv.reader(file, delimiter = '\\t')\n",
    "    data = [data for data in data_iter]\n",
    "categories_articles = np.asarray(data, dtype=np.int32)\n",
    "\n",
    "with open('../.idea/po_słowach_integers-po_slowach-articles_dict-pl-20211020', 'r', encoding='UTF-8') as file:\n",
    "    data_iter = csv.reader(file, delimiter = '\\t')\n",
    "    data = [data for data in data_iter]\n",
    "articles_dict = {int(i[1]):i[0] for i in data}"
   ]
  },
  {
   "cell_type": "code",
   "execution_count": 2,
   "metadata": {
    "pycharm": {
     "name": "#%%\n"
    }
   },
   "outputs": [],
   "source": [
    "from sklearn.model_selection import train_test_split, cross_val_score\n",
    "X = np.array(matrix, dtype=np.int32)\n",
    "y = categories_articles[:, 1]\n",
    "X_train, X_test, y_train, y_test = train_test_split(X, y)\n",
    "\n"
   ]
  },
  {
   "cell_type": "code",
   "execution_count": 3,
   "metadata": {},
   "outputs": [
    {
     "name": "stdout",
     "output_type": "stream",
     "text": [
      "[LibLinear][LibLinear][LibLinear][LibLinear][LibLinear][0.95 0.95 1.   1.   0.9 ]\n",
      "Accuracy: 0.96 (+/- 0.04)\n"
     ]
    }
   ],
   "source": [
    "#SVM (LinearSVC)\n",
    "\n",
    "from sklearn.svm import LinearSVC\n",
    "m_LinearSVC = LinearSVC(tol=1.0e-6,max_iter=5000,verbose=1)\n",
    "#m_LinearSVC.fit(X_train, y_train)\n",
    "#results = m_LinearSVC.predict(X_test)\n",
    "scores = cross_val_score(m_LinearSVC, X, y, cv=5, scoring='recall_macro')\n",
    "print(scores)\n",
    "print(\"Accuracy: %0.2f (+/- %0.2f)\" % (scores.mean(), scores.std()))"
   ]
  },
  {
   "cell_type": "code",
   "execution_count": 4,
   "metadata": {},
   "outputs": [
    {
     "name": "stdout",
     "output_type": "stream",
     "text": [
      "[0.7  0.45 0.55 0.55 0.45]\n",
      "Accuracy: 0.54 (+/- 0.09)\n"
     ]
    }
   ],
   "source": [
    "#KNN\n",
    "\n",
    "from sklearn.neighbors import KNeighborsClassifier\n",
    "m_KNN = KNeighborsClassifier()\n",
    "scores = cross_val_score(m_KNN, X, y, cv=5, scoring='recall_macro')\n",
    "print(scores)\n",
    "print(\"Accuracy: %0.2f (+/- %0.2f)\" % (scores.mean(), scores.std()))"
   ]
  },
  {
   "cell_type": "code",
   "execution_count": 5,
   "metadata": {},
   "outputs": [
    {
     "name": "stdout",
     "output_type": "stream",
     "text": [
      "[1.   1.   0.95 1.   0.85]\n",
      "Accuracy: 0.96 (+/- 0.06)\n"
     ]
    }
   ],
   "source": [
    "#Multinomial Naive Bayes\n",
    "from sklearn.naive_bayes import MultinomialNB\n",
    "m_MNB = MultinomialNB()\n",
    "scores = cross_val_score(m_MNB, X, y, cv=5, scoring='recall_macro')\n",
    "print(scores)\n",
    "print(\"Accuracy: %0.2f (+/- %0.2f)\" % (scores.mean(), scores.std()))"
   ]
  },
  {
   "cell_type": "code",
   "execution_count": 6,
   "metadata": {},
   "outputs": [
    {
     "name": "stdout",
     "output_type": "stream",
     "text": [
      "[1.   1.   0.95 1.   0.85]\n",
      "Accuracy: 0.96 (+/- 0.06)\n"
     ]
    }
   ],
   "source": [
    "#Multi-layer Perceptron\n",
    "from sklearn.neural_network import MLPClassifier\n",
    "m_MLP = MLPClassifier()\n",
    "scores = cross_val_score(m_MLP, X, y, cv=5, scoring='recall_macro')\n",
    "print(scores)\n",
    "print(\"Accuracy: %0.2f (+/- %0.2f)\" % (scores.mean(), scores.std()))"
   ]
  },
  {
   "cell_type": "code",
   "execution_count": 7,
   "metadata": {},
   "outputs": [],
   "source": [
    "# Przygotowanie bag of words\n",
    "from numpy import genfromtxt, int32\n",
    "my_data = genfromtxt('../.idea/po_słowach_integers-po_slowach-matrix-pl-20211020', dtype = int32, skip_header = 1, delimiter=' ')\n",
    "bag_of_words = dict()\n",
    "\n",
    "for row in my_data:\n",
    "    row_dict = dict()\n",
    "    for i, word_count in enumerate(row[1:], start = 1):\n",
    "        if word_count > 0:\n",
    "            row_dict[i] = word_count\n",
    "    bag_of_words[row[0]] = row_dict\n"
   ]
  },
  {
   "cell_type": "code",
   "execution_count": null,
   "metadata": {},
   "outputs": [],
   "source": []
  }
 ],
 "metadata": {
  "kernelspec": {
   "display_name": "Python 3 (ipykernel)",
   "language": "python",
   "name": "python3"
  },
  "language_info": {
   "codemirror_mode": {
    "name": "ipython",
    "version": 3
   },
   "file_extension": ".py",
   "mimetype": "text/x-python",
   "name": "python",
   "nbconvert_exporter": "python",
   "pygments_lexer": "ipython3",
   "version": "3.9.4"
  }
 },
 "nbformat": 4,
 "nbformat_minor": 1
}